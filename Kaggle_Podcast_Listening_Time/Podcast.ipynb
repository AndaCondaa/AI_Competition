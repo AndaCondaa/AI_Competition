{
 "cells": [
  {
   "cell_type": "code",
   "execution_count": 1,
   "id": "d2308109",
   "metadata": {},
   "outputs": [],
   "source": [
    "import pandas as pd"
   ]
  },
  {
   "cell_type": "code",
   "execution_count": 2,
   "id": "c0905bf0",
   "metadata": {},
   "outputs": [
    {
     "name": "stdout",
     "output_type": "stream",
     "text": [
      "                         Column  Train_Null  Test_Null\n",
      "0                            id           0          0\n",
      "1                  Podcast_Name           0          0\n",
      "2                 Episode_Title           0          0\n",
      "3        Episode_Length_minutes       87093      28736\n",
      "4                         Genre           0          0\n",
      "5    Host_Popularity_percentage           0          0\n",
      "6               Publication_Day           0          0\n",
      "7              Publication_Time           0          0\n",
      "8   Guest_Popularity_percentage      146030      48832\n",
      "9                 Number_of_Ads           1          0\n",
      "10            Episode_Sentiment           0          0\n"
     ]
    }
   ],
   "source": [
    "# Load Data\n",
    "op = 0 # 0: Local, 1: Kaggle\n",
    "\n",
    "if not op: # Local\n",
    "    train_path = './data/train.csv'\n",
    "    test_path = './data/test.csv'\n",
    "    sub_path = './data/sample_submission.csv'\n",
    "    save_path = './data/submission.csv'\n",
    "else:  # Kaggle\n",
    "    train_path = '/kaggle/input/titanic/train.csv'\n",
    "    test_path = '/kaggle/input/titanic/test.csv'\n",
    "    sub_path = '/kaggle/input/titanic/sample_submission.csv'    \n",
    "    save_path = '/kaggle/working/submission.csv'\n",
    "    \n",
    "\n",
    "df_train = pd.read_csv(train_path)\n",
    "df_test = pd.read_csv(test_path)\n",
    "df_sub = pd.read_csv(sub_path)\n",
    "\n",
    "\n",
    "# Check NaN\n",
    "train_null = df_train[df_test.columns].isnull().sum()\n",
    "test_null = df_test[df_test.columns].isnull().sum()\n",
    "\n",
    "df_null_check = pd.DataFrame({\n",
    "    'Column': df_test.columns,\n",
    "    'Train_Null': train_null.values,\n",
    "    'Test_Null': test_null.values\n",
    "})\n",
    "\n",
    "print(df_null_check)"
   ]
  },
  {
   "cell_type": "code",
   "execution_count": null,
   "id": "ac1376ad",
   "metadata": {},
   "outputs": [],
   "source": []
  }
 ],
 "metadata": {
  "kernelspec": {
   "display_name": "self",
   "language": "python",
   "name": "python3"
  },
  "language_info": {
   "codemirror_mode": {
    "name": "ipython",
    "version": 3
   },
   "file_extension": ".py",
   "mimetype": "text/x-python",
   "name": "python",
   "nbconvert_exporter": "python",
   "pygments_lexer": "ipython3",
   "version": "3.13.2"
  }
 },
 "nbformat": 4,
 "nbformat_minor": 5
}
