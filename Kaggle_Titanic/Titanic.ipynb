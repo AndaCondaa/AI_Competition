{
 "cells": [
  {
   "cell_type": "markdown",
   "metadata": {},
   "source": [
    "# 0."
   ]
  },
  {
   "cell_type": "code",
   "execution_count": null,
   "metadata": {},
   "outputs": [],
   "source": [
    "import pandas as pd\n",
    "import numpy as np\n",
    "import matplotlib.pyplot as plt\n",
    "import warnings\n",
    "from sklearn.feature_selection import mutual_info_classif\n",
    "from sklearn.preprocessing import LabelEncoder\n",
    "from sklearn.model_selection import train_test_split, GridSearchCV, RandomizedSearchCV\n",
    "from xgboost import XGBClassifier    \n",
    "\n",
    "\n",
    "warnings.filterwarnings('ignore')"
   ]
  },
  {
   "cell_type": "code",
   "execution_count": 19,
   "metadata": {},
   "outputs": [
    {
     "name": "stdout",
     "output_type": "stream",
     "text": [
      "<class 'pandas.core.frame.DataFrame'>\n",
      "RangeIndex: 891 entries, 0 to 890\n",
      "Data columns (total 12 columns):\n",
      " #   Column       Non-Null Count  Dtype  \n",
      "---  ------       --------------  -----  \n",
      " 0   PassengerId  891 non-null    int64  \n",
      " 1   Survived     891 non-null    int64  \n",
      " 2   Pclass       891 non-null    int64  \n",
      " 3   Name         891 non-null    object \n",
      " 4   Sex          891 non-null    object \n",
      " 5   Age          714 non-null    float64\n",
      " 6   SibSp        891 non-null    int64  \n",
      " 7   Parch        891 non-null    int64  \n",
      " 8   Ticket       891 non-null    object \n",
      " 9   Fare         891 non-null    float64\n",
      " 10  Cabin        204 non-null    object \n",
      " 11  Embarked     889 non-null    object \n",
      "dtypes: float64(2), int64(5), object(5)\n",
      "memory usage: 83.7+ KB\n",
      "None\n"
     ]
    }
   ],
   "source": [
    "# Load Data\n",
    "op = 0 # 0: Local, 1: Kaggle\n",
    "\n",
    "if not op: # Local\n",
    "    train_path = './data/train.csv'\n",
    "    test_path = './data/test.csv'\n",
    "    sub_path = './data/gender_submission.csv'\n",
    "    save_path = './data/submission.csv'\n",
    "else:  # Kaggle\n",
    "    train_path = '/kaggle/input/titanic/train.csv'\n",
    "    test_path = '/kaggle/input/titanic/test.csv'\n",
    "    sub_path = '/kaggle/input/titanic/gender_submission.csv'    \n",
    "    save_path = '/kaggle/working/submission.csv'\n",
    "\n",
    "df_train = pd.read_csv(train_path)\n",
    "df_test = pd.read_csv(test_path)\n",
    "df_sub = pd.read_csv(sub_path)\n",
    "\n",
    "print(df_train.info())"
   ]
  },
  {
   "cell_type": "markdown",
   "metadata": {},
   "source": [
    "# 1."
   ]
  },
  {
   "cell_type": "code",
   "execution_count": 20,
   "metadata": {},
   "outputs": [
    {
     "name": "stdout",
     "output_type": "stream",
     "text": [
      "PassengerId      0\n",
      "Pclass           0\n",
      "Sex              0\n",
      "Age            177\n",
      "SibSp            0\n",
      "Parch            0\n",
      "Fare             0\n",
      "Cabin          687\n",
      "Embarked         2\n",
      "dtype: int64\n",
      "=====================\n",
      "PassengerId      0\n",
      "Pclass           0\n",
      "Sex              0\n",
      "Age             86\n",
      "SibSp            0\n",
      "Parch            0\n",
      "Fare             1\n",
      "Cabin          327\n",
      "Embarked         0\n",
      "dtype: int64\n"
     ]
    }
   ],
   "source": [
    "# Remove unnecessary columns\n",
    "df_train = df_train.drop(columns=['Name', 'Ticket'])\n",
    "df_test = df_test.drop(columns=['Name', 'Ticket'])\n",
    "\n",
    "# Check NaN\n",
    "print(df_train[df_test.columns].isnull().sum())\n",
    "print(\"=====================\")\n",
    "print(df_test[df_test.columns].isnull().sum())"
   ]
  },
  {
   "cell_type": "code",
   "execution_count": 21,
   "metadata": {},
   "outputs": [],
   "source": [
    "# NaN list:  Age, Cabin, Fare, Embarked\n",
    "\n",
    "# Age\n",
    "def age_to_group(age):\n",
    "    if pd.isna(age):\n",
    "        return 7\n",
    "    elif age <= 10:\n",
    "        return 0\n",
    "    elif age <= 20:\n",
    "        return 1\n",
    "    elif age <= 30:\n",
    "        return 2\n",
    "    elif age <= 40:\n",
    "        return 3\n",
    "    elif age <= 50:\n",
    "        return 4\n",
    "    elif age <= 60:\n",
    "        return 5\n",
    "    else:\n",
    "        return 6\n",
    "\n",
    "df_train['AgeGroup'] = df_train['Age'].apply(age_to_group)\n",
    "df_test['AgeGroup'] = df_test['Age'].apply(age_to_group)\n",
    "\n",
    "# Fare\n",
    "df_test['Fare'] = df_test['Fare'].fillna(df_test.groupby('Pclass')['Fare'].transform('mean'))\n",
    "\n",
    "# Embarked\n",
    "df_train['Embarked'] = df_train['Embarked'].fillna('N')"
   ]
  },
  {
   "cell_type": "markdown",
   "metadata": {},
   "source": [
    "# 2. Feature Engineering"
   ]
  },
  {
   "cell_type": "code",
   "execution_count": 22,
   "metadata": {},
   "outputs": [],
   "source": [
    "# Encoding\n",
    "encoder = LabelEncoder()\n",
    "\n",
    "def data_encoding(df):\n",
    "    df['Sex'] = encoder.fit_transform(df['Sex'])\n",
    "    df['Embarked'] = encoder.fit_transform(df['Embarked'])\n",
    "    return df\n",
    "\n",
    "df_train = data_encoding(df_train)\n",
    "df_test = data_encoding(df_test)"
   ]
  },
  {
   "cell_type": "code",
   "execution_count": 23,
   "metadata": {},
   "outputs": [],
   "source": [
    "df_train['FamilySize'] = (df_train['SibSp'] + df_train['Parch']) **2\n",
    "df_test['FamilySize'] = (df_test['SibSp'] + df_test['Parch']) **2\n",
    "\n",
    "df_train['IsAlone'] = (df_train['FamilySize'] == 0).astype(int)\n",
    "df_test['IsAlone'] = (df_test['FamilySize'] == 0).astype(int)\n",
    "\n",
    "df_train['ClassByFare'] = (df_train['Fare'] / df_train['Pclass'])\n",
    "df_test['ClassByFare'] = (df_test['Fare'] / df_test['Pclass'])\n",
    "\n",
    "df_train['SexByEmbarked'] = (df_train['Sex'] + 1) * (df_train['Embarked'] + 1)\n",
    "df_test['SexByEmbarked'] = (df_test['Sex'] + 1) * (df_test['Embarked'] + 1)\n",
    "\n",
    "df_train['SexByIsAlone'] = (df_train['Sex'] + 1) * (df_train['IsAlone'] + 1)\n",
    "df_test['SexByIsAlone'] = (df_test['Sex'] + 1) * (df_test['IsAlone'] + 1)"
   ]
  },
  {
   "cell_type": "code",
   "execution_count": 24,
   "metadata": {},
   "outputs": [
    {
     "name": "stdout",
     "output_type": "stream",
     "text": [
      "Pclass              : 0.0762\n",
      "Sex                 : 0.1389\n",
      "FamilySize          : 0.0604\n",
      "IsAlone             : 0.0000\n",
      "ClassByFare         : 0.1532\n",
      "Fare                : 0.1268\n",
      "SexByEmbarked       : 0.1423\n",
      "SexByIsAlone        : 0.0988\n"
     ]
    }
   ],
   "source": [
    "# Select Feature\n",
    "feature_cols = ['Pclass', 'Sex', 'FamilySize', 'IsAlone', 'ClassByFare', 'Fare', 'SexByEmbarked', 'SexByIsAlone']\n",
    "df_train[feature_cols].head(10)\n",
    "\n",
    "# Check Feature importance\n",
    "importances = mutual_info_classif(df_train[feature_cols], df_train['Survived'])\n",
    "for col, imp in zip(feature_cols, importances):\n",
    "    print(f'{col:<20}: {imp:.4f}')"
   ]
  },
  {
   "cell_type": "markdown",
   "metadata": {},
   "source": [
    "# 3. Model Tuning - XGB"
   ]
  },
  {
   "cell_type": "code",
   "execution_count": 25,
   "metadata": {},
   "outputs": [],
   "source": [
    "# Split input and target data\n",
    "X = df_train[feature_cols].to_numpy()\n",
    "y = df_train['Survived'].to_numpy()\n",
    "X_pred = df_test[feature_cols].to_numpy()\n",
    "\n",
    "X_train, X_val, y_train, y_val = train_test_split(X, y, test_size=0.2, random_state=0)"
   ]
  },
  {
   "cell_type": "code",
   "execution_count": 38,
   "metadata": {},
   "outputs": [
    {
     "name": "stdout",
     "output_type": "stream",
     "text": [
      "Fitting 3 folds for each of 200 candidates, totalling 600 fits\n",
      "0.8581460674157303\n",
      "0.8770949720670391\n",
      "{'colsample_bytree': np.float64(0.8935530473929253), 'gamma': np.float64(0.20924717196770942), 'learning_rate': np.float64(0.04801833896658896), 'max_depth': 8, 'min_child_weight': 4, 'n_estimators': 129, 'reg_alpha': np.float64(0.07471476704153732), 'reg_lambda': np.float64(0.008713329477905407), 'subsample': np.float64(0.8000663953372971)}\n"
     ]
    }
   ],
   "source": [
    "from sklearn.model_selection import RandomizedSearchCV\n",
    "from scipy.stats import uniform, randint\n",
    "from xgboost import XGBClassifier\n",
    "\n",
    "param_dist = {\n",
    "    'learning_rate': uniform(0.01, 0.3),\n",
    "    'max_depth': randint(3, 10),\n",
    "    'min_child_weight': randint(1, 6),\n",
    "    'gamma': uniform(0, 0.3),\n",
    "    'subsample': uniform(0.7, 0.3),\n",
    "    'colsample_bytree': uniform(0.7, 0.3),\n",
    "    'reg_alpha': uniform(0, 0.1),\n",
    "    'reg_lambda': uniform(0, 0.1),\n",
    "    'n_estimators': randint(100, 300)\n",
    "}\n",
    "\n",
    "model = XGBClassifier(\n",
    "    tree_method='hist',\n",
    "    objective='binary:logistic',\n",
    "    eval_metric='logloss',\n",
    "    use_label_encoder=False,\n",
    "    n_jobs=-1,\n",
    ")\n",
    "\n",
    "random_search = RandomizedSearchCV(\n",
    "    estimator=model,\n",
    "    param_distributions=param_dist,\n",
    "    n_iter=200,\n",
    "    scoring='roc_auc',\n",
    "    cv=3,\n",
    "    verbose=1,\n",
    ")\n",
    "\n",
    "random_search.fit(X, y)\n",
    "best_model = random_search.best_estimator_\n",
    "print(best_model.score(X_train, y_train))\n",
    "print(best_model.score(X_val, y_val))\n",
    "print(random_search.best_params_)"
   ]
  },
  {
   "cell_type": "markdown",
   "metadata": {},
   "source": [
    "# 4. Submission"
   ]
  },
  {
   "cell_type": "code",
   "execution_count": 39,
   "metadata": {},
   "outputs": [],
   "source": [
    "y_pred = best_model.predict(X_pred)\n",
    "df_sub['Survived'] = y_pred\n",
    "df_sub.to_csv(save_path, index=False)"
   ]
  },
  {
   "cell_type": "code",
   "execution_count": null,
   "metadata": {},
   "outputs": [],
   "source": []
  }
 ],
 "metadata": {
  "kernelspec": {
   "display_name": "self",
   "language": "python",
   "name": "python3"
  },
  "language_info": {
   "codemirror_mode": {
    "name": "ipython",
    "version": 3
   },
   "file_extension": ".py",
   "mimetype": "text/x-python",
   "name": "python",
   "nbconvert_exporter": "python",
   "pygments_lexer": "ipython3",
   "version": "3.13.2"
  }
 },
 "nbformat": 4,
 "nbformat_minor": 2
}
